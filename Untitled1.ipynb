{
  "nbformat": 4,
  "nbformat_minor": 0,
  "metadata": {
    "colab": {
      "provenance": [],
      "authorship_tag": "ABX9TyP9kB7jrCWkxiKNme3541L+",
      "include_colab_link": true
    },
    "kernelspec": {
      "name": "python3",
      "display_name": "Python 3"
    },
    "language_info": {
      "name": "python"
    }
  },
  "cells": [
    {
      "cell_type": "markdown",
      "metadata": {
        "id": "view-in-github",
        "colab_type": "text"
      },
      "source": [
        "<a href=\"https://colab.research.google.com/github/febrialfiatussaadah/KKASmt1/blob/main/Untitled1.ipynb\" target=\"_parent\"><img src=\"https://colab.research.google.com/assets/colab-badge.svg\" alt=\"Open In Colab\"/></a>"
      ]
    },
    {
      "cell_type": "markdown",
      "source": [
        "#Nama: Febri alfiatus sa'adah\n",
        "#No:15\n",
        "#Kelas:11.1\n",
        "#Nama kelompok:Hampstead"
      ],
      "metadata": {
        "id": "x2rNDm9KgsN5"
      }
    },
    {
      "cell_type": "code",
      "execution_count": 3,
      "metadata": {
        "id": "pgl9qlhwgpzq",
        "colab": {
          "base_uri": "https://localhost:8080/"
        },
        "outputId": "66922e20-623a-4bb7-d16b-7c811c6a16c9"
      },
      "outputs": [
        {
          "output_type": "stream",
          "name": "stdout",
          "text": [
            "Masukkan panjang alas segitiga (cm): 7\n",
            "Masukkan tinggi segitiga (cm): 5\n",
            "Masukkan tinggi prisma (cm): 8\n",
            "Volume prisma segitiga adalah: 140.0 cm³\n"
          ]
        }
      ],
      "source": [
        "alas = float(input(\"Masukkan panjang alas segitiga (cm): \"))\n",
        "tinggi_segitiga = float(input(\"Masukkan tinggi segitiga (cm): \"))\n",
        "tinggi_prisma = float(input(\"Masukkan tinggi prisma (cm): \"))\n",
        "\n",
        "volume = 0.5 * alas * tinggi_segitiga * tinggi_prisma\n",
        "\n",
        "print(f\"Volume prisma segitiga adalah: {volume} cm³\")"
      ]
    }
  ]
}