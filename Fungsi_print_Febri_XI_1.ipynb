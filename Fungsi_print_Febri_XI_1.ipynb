{
  "nbformat": 4,
  "nbformat_minor": 0,
  "metadata": {
    "colab": {
      "provenance": [],
      "authorship_tag": "ABX9TyNhJif6aXMo2RsaRYtRPrRO",
      "include_colab_link": true
    },
    "kernelspec": {
      "name": "python3",
      "display_name": "Python 3"
    },
    "language_info": {
      "name": "python"
    }
  },
  "cells": [
    {
      "cell_type": "markdown",
      "metadata": {
        "id": "view-in-github",
        "colab_type": "text"
      },
      "source": [
        "<a href=\"https://colab.research.google.com/github/febrialfiatussaadah/KKASmt1/blob/main/Fungsi_print_Febri_XI_1.ipynb\" target=\"_parent\"><img src=\"https://colab.research.google.com/assets/colab-badge.svg\" alt=\"Open In Colab\"/></a>"
      ]
    },
    {
      "cell_type": "code",
      "source": [
        "harga_telur = 26000\n",
        "\n",
        "print(\"Harga telur per 1 kg adalah\",harga_telur)"
      ],
      "metadata": {
        "id": "MbqBHPpvBssZ",
        "colab": {
          "base_uri": "https://localhost:8080/"
        },
        "outputId": "bbe82053-2da7-4b63-9204-e768ad281631"
      },
      "execution_count": null,
      "outputs": [
        {
          "output_type": "stream",
          "name": "stdout",
          "text": [
            "Harga telur per 1 kg adalah 26000\n"
          ]
        }
      ]
    },
    {
      "cell_type": "code",
      "source": [
        "5harga_telur = 26000\n",
        "\n",
        "print(\"Harga telur per 1 kg adalah\" + str(harga_telur))"
      ],
      "metadata": {
        "colab": {
          "base_uri": "https://localhost:8080/"
        },
        "id": "pvx4fOj4DO4s",
        "outputId": "ae19ee6f-e73a-4742-bc7b-76e9ed506ab9"
      },
      "execution_count": null,
      "outputs": [
        {
          "output_type": "stream",
          "name": "stdout",
          "text": [
            "Harga telur per 1 kg adalah26000\n"
          ]
        }
      ]
    },
    {
      "cell_type": "markdown",
      "source": [],
      "metadata": {
        "id": "mBgr0-mYFOTa"
      }
    },
    {
      "cell_type": "markdown",
      "source": [
        "#1 Menampilkan teks bebas"
      ],
      "metadata": {
        "id": "zUAZQM5lGWBB"
      }
    },
    {
      "cell_type": "markdown",
      "source": [],
      "metadata": {
        "id": "bZ6mBVsmB99_"
      }
    },
    {
      "cell_type": "code",
      "execution_count": null,
      "metadata": {
        "id": "ngGedOogFXFc",
        "colab": {
          "base_uri": "https://localhost:8080/"
        },
        "outputId": "d33a7cbf-7317-49be-c51b-552782b81941"
      },
      "outputs": [
        {
          "output_type": "stream",
          "name": "stdout",
          "text": [
            "Halo dunia\n"
          ]
        }
      ],
      "source": [
        "print(\"Halo dunia\")"
      ]
    },
    {
      "cell_type": "code",
      "source": [
        "print('Selamat datang di Python')"
      ],
      "metadata": {
        "id": "PPDxhttMFr2v",
        "colab": {
          "base_uri": "https://localhost:8080/"
        },
        "outputId": "21b24da7-2ba5-4f39-edc9-d401d88ea52b"
      },
      "execution_count": null,
      "outputs": [
        {
          "output_type": "stream",
          "name": "stdout",
          "text": [
            "Selamat datang di Python\n"
          ]
        }
      ]
    },
    {
      "cell_type": "code",
      "source": [],
      "metadata": {
        "id": "h82orplDh2K0"
      },
      "execution_count": null,
      "outputs": []
    },
    {
      "cell_type": "markdown",
      "source": [
        "# Variable"
      ],
      "metadata": {
        "id": "JxsNUn7jHghX"
      }
    },
    {
      "cell_type": "code",
      "source": [
        "BB = 50\n",
        "print(BB)"
      ],
      "metadata": {
        "colab": {
          "base_uri": "https://localhost:8080/"
        },
        "id": "5YAKqfiuHnnA",
        "outputId": "33afa67a-36bf-451a-de21-c5b91d61f42b"
      },
      "execution_count": null,
      "outputs": [
        {
          "output_type": "stream",
          "name": "stdout",
          "text": [
            "50\n"
          ]
        }
      ]
    },
    {
      "cell_type": "code",
      "source": [
        "Umur = 16\n",
        "print(Umur)"
      ],
      "metadata": {
        "colab": {
          "base_uri": "https://localhost:8080/"
        },
        "id": "nYlJXaqoIXSY",
        "outputId": "1e96b1cb-62c2-4155-9450-98200b48221d"
      },
      "execution_count": null,
      "outputs": [
        {
          "output_type": "stream",
          "name": "stdout",
          "text": [
            "16\n"
          ]
        }
      ]
    },
    {
      "cell_type": "markdown",
      "source": [
        "# Menampilkan teks bebas dan variable"
      ],
      "metadata": {
        "id": "Pg8Y2TLuIyM8"
      }
    },
    {
      "cell_type": "code",
      "source": [
        "print(f\"Umur saya {Umur} tahun\")"
      ],
      "metadata": {
        "colab": {
          "base_uri": "https://localhost:8080/"
        },
        "id": "7LxdjK8JI2kM",
        "outputId": "f105b5d0-bcc7-4ce4-fd09-b9b4fefee248"
      },
      "execution_count": null,
      "outputs": [
        {
          "output_type": "stream",
          "name": "stdout",
          "text": [
            "Umur saya 16 tahun\n"
          ]
        }
      ]
    },
    {
      "cell_type": "code",
      "source": [
        "print(\"Halo\" +nama)"
      ],
      "metadata": {
        "colab": {
          "base_uri": "https://localhost:8080/"
        },
        "id": "4Cjsg4SJJ3bf",
        "outputId": "0c1c7063-541c-43dd-e38f-a02fb29fbc19"
      },
      "execution_count": null,
      "outputs": [
        {
          "output_type": "stream",
          "name": "stdout",
          "text": [
            "Halofebri alfiatus\n"
          ]
        }
      ]
    },
    {
      "cell_type": "code",
      "source": [
        "nama = \"febri alfiatus\""
      ],
      "metadata": {
        "id": "MNPcJQHiKMkh"
      },
      "execution_count": null,
      "outputs": []
    },
    {
      "cell_type": "markdown",
      "source": [],
      "metadata": {
        "id": "wOEnOPvJGp0Y"
      }
    },
    {
      "cell_type": "markdown",
      "source": [
        "Latihan soal\n",
        "\n",
        "1. Tampilkan teks bebas: Hari ini saya bahagia belajar bahasa python\n",
        "2. Tampilkan nilai variabel mata_pelajaran_favorit = kode dan kecerdasan Buatan\n",
        "3. Tampilkan nilai variabel: nilai_nilai_kka = 100\n",
        "4. Tampilkan teks bebas dan nilai variabel dengan tiga metode (f string,\"+\",\",\"):\"Nilai KKA saya adalah {nilai_nilai_kka} loh\""
      ],
      "metadata": {
        "id": "x23Lx5lrHOZz"
      }
    },
    {
      "cell_type": "code",
      "source": [
        "print(\"Nama\\t\\t: Febri alfiatus sa'adah\\nKelas\\t\\t: XI.1\\nNomor absen\\t: 17\")"
      ],
      "metadata": {
        "colab": {
          "base_uri": "https://localhost:8080/"
        },
        "id": "-WrQACQRLkyc",
        "outputId": "1115b788-9984-4cc5-9775-e61531e9d6a0"
      },
      "execution_count": null,
      "outputs": [
        {
          "output_type": "stream",
          "name": "stdout",
          "text": [
            "Nama\t\t: Febri alfiatus sa'adah\n",
            "Kelas\t\t: XI.1\n",
            "Nomor absen\t: 17\n"
          ]
        }
      ]
    },
    {
      "cell_type": "markdown",
      "source": [],
      "metadata": {
        "id": "LccVxDb5Li8d"
      }
    },
    {
      "cell_type": "code",
      "source": [
        "print(\"hari ini saya bahagia belajar bahasa python\")"
      ],
      "metadata": {
        "id": "DOhg1i3ICPxb",
        "colab": {
          "base_uri": "https://localhost:8080/"
        },
        "outputId": "b7363602-e89b-40e1-e82a-dea58dd8bd3a"
      },
      "execution_count": null,
      "outputs": [
        {
          "output_type": "stream",
          "name": "stdout",
          "text": [
            "hari ini saya bahagia belajar bahasa python\n"
          ]
        }
      ]
    },
    {
      "cell_type": "code",
      "source": [
        "mata_pelajaran_favorit = \"kode dan kecerdasan buatan\"\n",
        "\n",
        "print(mata_pelajaran_favorit)"
      ],
      "metadata": {
        "colab": {
          "base_uri": "https://localhost:8080/"
        },
        "id": "PWjpSQzn3JzO",
        "outputId": "78cc11bb-749c-4014-9132-bf481810ab81"
      },
      "execution_count": null,
      "outputs": [
        {
          "output_type": "stream",
          "name": "stdout",
          "text": [
            "kode dan kecerdasan buatan\n"
          ]
        }
      ]
    },
    {
      "cell_type": "code",
      "source": [
        "nilai_KKA= 100\n",
        "\n",
        "print(nilai_KKA)"
      ],
      "metadata": {
        "colab": {
          "base_uri": "https://localhost:8080/"
        },
        "id": "Y04N0YIk3nvP",
        "outputId": "62ca139b-76d3-4400-a951-ab7dfb9af147"
      },
      "execution_count": null,
      "outputs": [
        {
          "output_type": "stream",
          "name": "stdout",
          "text": [
            "100\n"
          ]
        }
      ]
    },
    {
      "cell_type": "code",
      "source": [
        "nilai_KKA = 100\n",
        "\n",
        "print(f\"nilai KKA saya adalah {nilai_KKA} loh!\")"
      ],
      "metadata": {
        "colab": {
          "base_uri": "https://localhost:8080/"
        },
        "id": "TLWeQjS2323x",
        "outputId": "8d2e1ff0-9f9c-4f02-87a9-32ebd859bcce"
      },
      "execution_count": null,
      "outputs": [
        {
          "output_type": "stream",
          "name": "stdout",
          "text": [
            "nilai KKA saya adalah 100 loh!\n"
          ]
        }
      ]
    },
    {
      "cell_type": "code",
      "source": [
        "nilai_KKA = 100\n",
        "\n",
        "print(\"nilai KKA saya adalah \"+ str(nilai_KKA) + \" loh!\")"
      ],
      "metadata": {
        "colab": {
          "base_uri": "https://localhost:8080/"
        },
        "id": "UFrDhQcX4Mdd",
        "outputId": "e2644d9c-a133-43d7-b097-74e7911eb563"
      },
      "execution_count": null,
      "outputs": [
        {
          "output_type": "stream",
          "name": "stdout",
          "text": [
            "nilai KKA saya adalah 100 loh!\n"
          ]
        }
      ]
    },
    {
      "cell_type": "code",
      "source": [
        "print('Ja\\'far shodiq')"
      ],
      "metadata": {
        "colab": {
          "base_uri": "https://localhost:8080/"
        },
        "id": "pK_AMfjWCTND",
        "outputId": "1af48cb9-2b19-4154-acb4-cbf1d1732555"
      },
      "execution_count": null,
      "outputs": [
        {
          "output_type": "stream",
          "name": "stdout",
          "text": [
            "Ja'far shodiq\n"
          ]
        }
      ]
    },
    {
      "cell_type": "code",
      "source": [
        "print(\"Ja'far shodiq\")"
      ],
      "metadata": {
        "colab": {
          "base_uri": "https://localhost:8080/"
        },
        "id": "LctS7v0HCrJ_",
        "outputId": "0415160a-b7c3-4886-ec04-bc8b8f8f383c"
      },
      "execution_count": null,
      "outputs": [
        {
          "output_type": "stream",
          "name": "stdout",
          "text": [
            "Ja'far shodiq\n"
          ]
        }
      ]
    },
    {
      "cell_type": "code",
      "source": [
        "print(\"Bu Shinta berkata, \\\"Semua harus menyimak pelajanan.\\\"\")"
      ],
      "metadata": {
        "colab": {
          "base_uri": "https://localhost:8080/"
        },
        "id": "xlKW9pfICzVG",
        "outputId": "f7b63b95-e32d-441e-c0dc-27d8559d9f22"
      },
      "execution_count": null,
      "outputs": [
        {
          "output_type": "stream",
          "name": "stdout",
          "text": [
            "Bu Shinta berkata, \"Semua harus menyimak pelajanan.\"\n"
          ]
        }
      ]
    },
    {
      "cell_type": "code",
      "source": [
        "print('Bu Shinta berkata, \"Semua harus menyimak pelajaran\"')"
      ],
      "metadata": {
        "colab": {
          "base_uri": "https://localhost:8080/"
        },
        "id": "hR0gOcJdDIlo",
        "outputId": "8f9b40ef-8ae8-427a-e766-eb3125750add"
      },
      "execution_count": null,
      "outputs": [
        {
          "output_type": "stream",
          "name": "stdout",
          "text": [
            "Bu Shinta berkata, \"Semua harus menyimak pelajaran\"\n"
          ]
        }
      ]
    },
    {
      "cell_type": "code",
      "source": [
        "print(\"Lokasi file video karnaval ada di D:\\\\Karnaval 2025\")"
      ],
      "metadata": {
        "id": "tbr0_RRCDTev",
        "colab": {
          "base_uri": "https://localhost:8080/"
        },
        "outputId": "b6b0ea17-0c26-4267-a06a-7fb37de906dc"
      },
      "execution_count": null,
      "outputs": [
        {
          "output_type": "stream",
          "name": "stdout",
          "text": [
            "Lokasi file video karnaval ada di D:\\Karnaval 2025\n"
          ]
        }
      ]
    },
    {
      "cell_type": "markdown",
      "source": [
        "#Parameter Fungsi print"
      ],
      "metadata": {
        "id": "5XvFQZsAEpku"
      }
    },
    {
      "cell_type": "code",
      "source": [
        "Tahun   = 2009\n",
        "Bulan   = \"februari\"\n",
        "Tanggal = 20\n",
        "\n",
        "print(Tanggal,end=\" \")\n",
        "print(Bulan,end=\" \")\n",
        "print(Tahun,end=\" \")"
      ],
      "metadata": {
        "id": "hQPhug0WE5in",
        "colab": {
          "base_uri": "https://localhost:8080/"
        },
        "outputId": "dbc53c0f-b9de-4f62-f49c-0430709d47f9"
      },
      "execution_count": null,
      "outputs": [
        {
          "output_type": "stream",
          "name": "stdout",
          "text": [
            "20 februari 2009 "
          ]
        }
      ]
    },
    {
      "cell_type": "code",
      "source": [
        "Tahun = 2009\n",
        "\n",
        "Bulan = \"februari\"\n",
        "\n",
        "Tanggal =20\n",
        "\n",
        "print(Tanggal, Bulan, Tahun, sep=\"/\")"
      ],
      "metadata": {
        "id": "yubFMrgEhh_w",
        "colab": {
          "base_uri": "https://localhost:8080/"
        },
        "outputId": "9e194e34-5a02-4641-e1fe-9fc0da042bee"
      },
      "execution_count": null,
      "outputs": [
        {
          "output_type": "stream",
          "name": "stdout",
          "text": [
            "20/februari/2009\n"
          ]
        }
      ]
    },
    {
      "cell_type": "markdown",
      "source": [
        "#Latihann:\n",
        "\n",
        "#Tanggal-Bulan-Tahun"
      ],
      "metadata": {
        "id": "j-iwL76_ISeK"
      }
    },
    {
      "cell_type": "markdown",
      "source": [],
      "metadata": {
        "id": "zPrve4uQL44J"
      }
    },
    {
      "cell_type": "code",
      "source": [
        "Nama_depan = \"Febri\"\n",
        "\n",
        "Nama_belakang = \"alfiatus\"\n",
        "\n",
        "print(Nama_depan, end=\" \")\n",
        "print(Nama_belakang)"
      ],
      "metadata": {
        "colab": {
          "base_uri": "https://localhost:8080/"
        },
        "id": "FBpUXWu9I7N5",
        "outputId": "e86c5675-5035-4b45-f40e-298e4a9af2b1"
      },
      "execution_count": null,
      "outputs": [
        {
          "output_type": "stream",
          "name": "stdout",
          "text": [
            "Febri alfiatus\n"
          ]
        }
      ]
    },
    {
      "cell_type": "code",
      "source": [
        "Nama_depan = \"Febri\"\n",
        "\n",
        "Nama_belakang = \"alfiatus\"\n",
        "\n",
        "print(Nama_depan, Nama_belakang)"
      ],
      "metadata": {
        "colab": {
          "base_uri": "https://localhost:8080/"
        },
        "id": "GZo5QU-FIfTy",
        "outputId": "5a949d3b-1aeb-4573-d3e0-42136290c81a"
      },
      "execution_count": null,
      "outputs": [
        {
          "output_type": "stream",
          "name": "stdout",
          "text": [
            "Febri alfiatus\n"
          ]
        }
      ]
    },
    {
      "cell_type": "markdown",
      "source": [
        "#soal"
      ],
      "metadata": {
        "id": "twGFlvL0IOCl"
      }
    },
    {
      "cell_type": "code",
      "source": [
        "print ('Bu shinta berkata,\"berikut adalah judul pelajaran hari senin selasa rabu silahkan disimpan di laptop masing masing di folder local disk D:\\\\Jadwal pelajaran\\\\Kelas XI Semester 1\"')\n",
        "print(\"\\nJadwal Pelajaran Mingguan\")\n",
        "print(\"=================================\")\n",
        "print(\"jam\\tSenin\\t\\tSelasa\\t\\tRabu\")\n",
        "print(\"jam 1\\tMatematika\\tBahasa\\t\\tInformatika\")\n",
        "print(\"jam 2\\tBahasa ing.\\tSejarah\\t\\tMa'rifatullah\")\n",
        "print(\"jam 3\\tInformatika\\tOlahraga\\tBiologi\")"
      ],
      "metadata": {
        "colab": {
          "base_uri": "https://localhost:8080/"
        },
        "id": "gO8G5EQJL_No",
        "outputId": "f9c7d43f-48b2-4826-f356-6def86345b98"
      },
      "execution_count": null,
      "outputs": [
        {
          "output_type": "stream",
          "name": "stdout",
          "text": [
            "Bu shinta berkata,\"berikut adalah judul pelajaran hari senin selasa rabu silahkan disimpan di laptop masing masing di folder local disk D:\\Jadwal pelajaran\\Kelas XI Semester 1\"\n",
            "\n",
            "Jadwal Pelajaran Mingguan\n",
            "=================================\n",
            "jam\tSenin\t\tSelasa\t\tRabu\n",
            "jam 1\tMatematika\tBahasa\t\tInformatika\n",
            "jam 2\tBahasa ing.\tSejarah\t\tMa'rifatullah\n",
            "jam 3\tInformatika\tOlahraga\tBiologi\n"
          ]
        }
      ]
    },
    {
      "cell_type": "markdown",
      "source": [
        "#Fungsi paramenter"
      ],
      "metadata": {
        "id": "_yHC9_iHFJi-"
      }
    },
    {
      "cell_type": "code",
      "source": [
        "nama_siswa_1 = \"favian\"\n",
        "nama_siswa_2 = \"Naufal\"\n",
        "nama_siswa_3 = \"Humaira\"\n",
        "\n",
        "print(nama_siswa_1,nama_siswa_2,nama_siswa_3, sep=\"*\")"
      ],
      "metadata": {
        "colab": {
          "base_uri": "https://localhost:8080/"
        },
        "id": "3-6tmXefFQhB",
        "outputId": "a16fc1be-207e-42ce-d94e-43c2c30d5341"
      },
      "execution_count": null,
      "outputs": [
        {
          "output_type": "stream",
          "name": "stdout",
          "text": [
            "favian*Naufal*Humaira\n"
          ]
        }
      ]
    },
    {
      "cell_type": "code",
      "source": [
        "print(nama_siswa_1,end=\"#\")\n",
        "print(nama_siswa_2,end=\"#\")\n",
        "print(nama_siswa_3)"
      ],
      "metadata": {
        "colab": {
          "base_uri": "https://localhost:8080/"
        },
        "id": "YBbWI2ztGGq6",
        "outputId": "2a24dc07-d17d-48b6-8ae7-59e01ad5e1fd"
      },
      "execution_count": null,
      "outputs": [
        {
          "output_type": "stream",
          "name": "stdout",
          "text": [
            "favian#Naufal#Humaira\n"
          ]
        }
      ]
    },
    {
      "cell_type": "code",
      "source": [
        "# Tampilkan keluaran berupa:\n",
        "# Naufal-Favian-Humaira-Favian\n",
        "# Dengan parameter sep\n",
        "\n",
        "print(nama_siswa_1,nama_siswa_2,nama_siswa_3,nama_siswa_1,sep=\"~\")"
      ],
      "metadata": {
        "colab": {
          "base_uri": "https://localhost:8080/"
        },
        "id": "rJ1eyP7cGY3R",
        "outputId": "3bb97759-1fc8-42f7-cd9c-c936b78a9611"
      },
      "execution_count": null,
      "outputs": [
        {
          "output_type": "stream",
          "name": "stdout",
          "text": [
            "favian~Naufal~Humaira~favian\n"
          ]
        }
      ]
    },
    {
      "cell_type": "code",
      "source": [
        "print(nama_siswa_2,end=\"~\")\n",
        "print(nama_siswa_1)\n",
        "\n",
        "\n",
        "print(nama_siswa_3,end=\"~\")\n",
        "print(nama_siswa_1)"
      ],
      "metadata": {
        "colab": {
          "base_uri": "https://localhost:8080/"
        },
        "id": "M_UVRujfGt36",
        "outputId": "0ebbbed6-d774-46d3-c8b7-cb192f1f7e7d"
      },
      "execution_count": null,
      "outputs": [
        {
          "output_type": "stream",
          "name": "stdout",
          "text": [
            "Naufal~favian\n",
            "Humaira~favian\n"
          ]
        }
      ]
    }
  ]
}